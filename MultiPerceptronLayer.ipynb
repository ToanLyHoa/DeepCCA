{
  "cells": [
    {
      "cell_type": "markdown",
      "metadata": {
        "id": "cIE_96iDeWrX"
      },
      "source": [
        "### **Chuẩn bị đầy đủ các thư viện**"
      ]
    },
    {
      "cell_type": "code",
      "execution_count": null,
      "metadata": {
        "id": "FJPUk9pamjky"
      },
      "outputs": [],
      "source": [
        "import matplotlib.pyplot as plt\n",
        "import numpy as np\n",
        "import keras, random, math\n",
        "from keras.datasets import mnist\n",
        "from keras.models import Sequential\n",
        "from keras.layers import Dense, Activation, Dropout\n",
        "from keras.regularizers import l2\n",
        "\n",
        "#NP warning\n",
        "import warnings\n",
        "warnings.filterwarnings('ignore')"
      ]
    },
    {
      "cell_type": "markdown",
      "metadata": {
        "id": "WYCK07zAebGq"
      },
      "source": [
        "### **Các hàm bổ trợ cho việc đọc dữ liệu từ tập dataset train**"
      ]
    },
    {
      "cell_type": "code",
      "execution_count": null,
      "metadata": {
        "id": "zAY7DHmfrD2L"
      },
      "outputs": [],
      "source": [
        "import gzip\n",
        "from sklearn import svm\n",
        "from sklearn.metrics import accuracy_score\n",
        "import numpy as np\n",
        "import torch\n",
        "def load_data(data_file):\n",
        "    \"\"\"loads the data from the gzip pickled files, and converts to numpy arrays\"\"\"\n",
        "    print('loading data ...')\n",
        "    f = gzip.open(data_file, 'rb')\n",
        "    train_set, valid_set, test_set = load_pickle(f)\n",
        "    f.close()\n",
        "\n",
        "    train_set_x, train_set_y = make_tensor(train_set)\n",
        "    valid_set_x, valid_set_y = make_tensor(valid_set)\n",
        "    test_set_x, test_set_y = make_tensor(test_set)\n",
        "\n",
        "    return [(train_set_x, train_set_y), (valid_set_x, valid_set_y), (test_set_x, test_set_y)]\n",
        "\n",
        "\n",
        "def make_tensor(data_xy):\n",
        "    \"\"\"converts the input to numpy arrays\"\"\"\n",
        "    data_x, data_y = data_xy\n",
        "    data_x = torch.tensor(data_x)\n",
        "    data_y = np.asarray(data_y, dtype='int32')\n",
        "    return data_x, data_y\n",
        "\n",
        "\n",
        "def load_pickle(f):\n",
        "    \"\"\"\n",
        "    loads and returns the content of a pickled file\n",
        "    it handles the inconsistencies between the pickle packages available in Python 2 and 3\n",
        "    \"\"\"\n",
        "    try:\n",
        "        import pickle as thepickle\n",
        "    except ImportError:\n",
        "        import pickle as thepickle\n",
        "\n",
        "    try:\n",
        "        ret = thepickle.load(f, encoding='latin1')\n",
        "    except TypeError:\n",
        "        ret = thepickle.load(f)\n",
        "\n",
        "    return ret\n"
      ]
    },
    {
      "cell_type": "markdown",
      "metadata": {
        "id": "iXFpLLr6e5MN"
      },
      "source": [
        "### **Tải dữ liệu về google colab**\n",
        "### **Sau đó load vào các biến tương ứng**"
      ]
    },
    {
      "cell_type": "code",
      "execution_count": null,
      "metadata": {
        "colab": {
          "base_uri": "https://localhost:8080/"
        },
        "id": "evjdJK8Aq28b",
        "outputId": "b237ecf4-3d61-44f1-e185-450b8a85e0b5"
      },
      "outputs": [
        {
          "name": "stdout",
          "output_type": "stream",
          "text": [
            "Downloading...\n",
            "From: https://www2.cs.uic.edu/~vnoroozi/noisy-mnist/noisymnist_view1.gz\n",
            "To: /content/noisymnist_view1.gz\n",
            "100% 88.9M/88.9M [00:06<00:00, 14.5MB/s]\n",
            "Downloading...\n",
            "From: https://www2.cs.uic.edu/~vnoroozi/noisy-mnist/noisymnist_view2.gz\n",
            "To: /content/noisymnist_view2.gz\n",
            "100% 210M/210M [00:12<00:00, 16.4MB/s]\n",
            "loading data ...\n",
            "loading data ...\n"
          ]
        }
      ],
      "source": [
        "!gdown  https://www2.cs.uic.edu/~vnoroozi/noisy-mnist/noisymnist_view1.gz\n",
        "!gdown  https://www2.cs.uic.edu/~vnoroozi/noisy-mnist/noisymnist_view2.gz\n",
        "data1 = load_data('noisymnist_view1.gz')\n",
        "data2 = load_data('noisymnist_view2.gz')\n",
        "(x_train, y_train) = data1[0][0], data1[0][1]\n",
        "(x_val, y_val) = data1[1][0], data1[1][1]\n",
        "(x_test, y_test) = data1[2][0], data1[2][1]"
      ]
    },
    {
      "cell_type": "markdown",
      "metadata": {
        "id": "VJHaDnFQfmvN"
      },
      "source": [
        "### **Số ảnh và số chiều của input**"
      ]
    },
    {
      "cell_type": "code",
      "execution_count": null,
      "metadata": {
        "colab": {
          "base_uri": "https://localhost:8080/"
        },
        "id": "8Jm4pqksrybz",
        "outputId": "06f42424-974e-4a9b-c63b-670667fd601b"
      },
      "outputs": [
        {
          "name": "stdout",
          "output_type": "stream",
          "text": [
            "Number of images (digits):  50000\n",
            "Dimensions of X:  784\n"
          ]
        }
      ],
      "source": [
        "print('Number of images (digits): ', x_train.shape[0]) \n",
        "print('Dimensions of X: ', x_train.shape[1])"
      ]
    },
    {
      "cell_type": "markdown",
      "metadata": {
        "id": "EOxzuFg3f00m"
      },
      "source": [
        "### **Thiết lập mô hình**"
      ]
    },
    {
      "cell_type": "code",
      "execution_count": null,
      "metadata": {
        "id": "84p3D98KsWqK"
      },
      "outputs": [],
      "source": [
        "# 28x28 = 784\n",
        "model = Sequential([Dense(1024, input_shape=(784,)), \n",
        "                       Activation('sigmoid'),\n",
        "                       Dense(1024),\n",
        "                       Activation('sigmoid'),\n",
        "                       Dense(1024),\n",
        "                       Activation('sigmoid'),\n",
        "                       Dense(10),\n",
        "                       Activation('softmax'),\n",
        "])\n",
        "\n",
        "model.compile(optimizer='adam', loss='categorical_crossentropy', metrics=['accuracy'])"
      ]
    },
    {
      "cell_type": "markdown",
      "metadata": {
        "id": "H7SrYqUjgESt"
      },
      "source": [
        "# **Chuyển kết quả thành one_hot_coding**"
      ]
    },
    {
      "cell_type": "code",
      "execution_count": null,
      "metadata": {
        "id": "YCsDE6petbY0"
      },
      "outputs": [],
      "source": [
        "from keras.utils import np_utils\n",
        "y_train_hot = keras.utils.np_utils.to_categorical(y_train, num_classes=10)"
      ]
    },
    {
      "cell_type": "code",
      "execution_count": null,
      "metadata": {
        "id": "5IrgxSAFuqa1"
      },
      "outputs": [],
      "source": [
        "import torch\n",
        "import tensorflow as tf\n",
        "np_tensor = x_train.numpy()\n",
        "x_train = tf.convert_to_tensor(np_tensor)\n",
        "np_tensor = x_val.numpy()\n",
        "x_val = tf.convert_to_tensor(np_tensor)\n",
        "np_tensor = x_test.numpy()\n",
        "x_test = tf.convert_to_tensor(np_tensor)"
      ]
    },
    {
      "cell_type": "markdown",
      "metadata": {
        "id": "jHwpnQGugKqM"
      },
      "source": [
        "### **Train model**"
      ]
    },
    {
      "cell_type": "code",
      "execution_count": null,
      "metadata": {
        "colab": {
          "background_save": true,
          "base_uri": "https://localhost:8080/"
        },
        "id": "BoPjCCmetHu-",
        "outputId": "94350b72-ce83-4813-dbc0-a8f2cb264eff"
      },
      "outputs": [
        {
          "name": "stdout",
          "output_type": "stream",
          "text": [
            "Epoch 1/10\n",
            "1563/1563 [==============================] - 67s 42ms/step - loss: 0.6332 - accuracy: 0.7895\n",
            "Epoch 2/10\n",
            "1563/1563 [==============================] - 68s 44ms/step - loss: 0.2538 - accuracy: 0.9201\n",
            "Epoch 3/10\n",
            "1563/1563 [==============================] - 66s 42ms/step - loss: 0.1698 - accuracy: 0.9457\n",
            "Epoch 4/10\n",
            "1563/1563 [==============================] - 63s 41ms/step - loss: 0.1268 - accuracy: 0.9592\n",
            "Epoch 5/10\n",
            "1563/1563 [==============================] - 70s 45ms/step - loss: 0.0945 - accuracy: 0.9705\n",
            "Epoch 6/10\n",
            "1563/1563 [==============================] - 62s 40ms/step - loss: 0.0733 - accuracy: 0.9761\n",
            "Epoch 7/10\n",
            "1563/1563 [==============================] - 63s 40ms/step - loss: 0.0567 - accuracy: 0.9811\n",
            "Epoch 8/10\n",
            "1563/1563 [==============================] - 61s 39ms/step - loss: 0.0451 - accuracy: 0.9849\n",
            "Epoch 9/10\n",
            "1563/1563 [==============================] - 62s 39ms/step - loss: 0.0361 - accuracy: 0.9873\n",
            "Epoch 10/10\n",
            "1563/1563 [==============================] - 62s 40ms/step - loss: 0.0303 - accuracy: 0.9896\n"
          ]
        },
        {
          "data": {
            "text/plain": [
              "<keras.callbacks.History at 0x7fe510675790>"
            ]
          },
          "execution_count": null,
          "metadata": {},
          "output_type": "execute_result"
        }
      ],
      "source": [
        "model.fit(x_train, y_train_hot, epochs=10)"
      ]
    },
    {
      "cell_type": "markdown",
      "metadata": {
        "id": "u3M2YBOOgz9k"
      },
      "source": [
        "### **Thực nghiệm trên tập dữ liệu validation**"
      ]
    },
    {
      "cell_type": "code",
      "execution_count": null,
      "metadata": {
        "colab": {
          "background_save": true
        },
        "id": "iBPOduKPv8cc",
        "outputId": "71b86e06-f9ce-41fe-9fec-c42214b7d2cd"
      },
      "outputs": [
        {
          "name": "stdout",
          "output_type": "stream",
          "text": [
            "10000\n",
            "Validation Prediction Accuracy:  100.0 %\n"
          ]
        }
      ],
      "source": [
        "prediction_hot = model.predict(x_val)\n",
        "prediction = []\n",
        "\n",
        "#convert from one-hot to regular\n",
        "for line in prediction_hot:\n",
        "    prediction.append(np.argmax(line))\n",
        "correct = 0\n",
        "incorrect = 0\n",
        "\n",
        "for i in prediction:\n",
        "    if prediction[i] == y_val[i]:\n",
        "        correct += 1\n",
        "    else:\n",
        "        incorrect += 1\n",
        "        #print(prediction[i], '!=', y_test[i])\n",
        "\n",
        "accuracy = correct / y_val.shape[0]\n",
        "\n",
        "print(correct)\n",
        "print('Validation Prediction Accuracy: ', accuracy * 100, '%')"
      ]
    },
    {
      "cell_type": "markdown",
      "metadata": {
        "id": "e-jlr8pxg_sX"
      },
      "source": [
        "### **Thực nghiệm trên tập test**"
      ]
    },
    {
      "cell_type": "code",
      "execution_count": null,
      "metadata": {
        "colab": {
          "background_save": true
        },
        "id": "N12gYWUjwqXE",
        "outputId": "040279fd-ef69-4340-d41d-ebe51c931656"
      },
      "outputs": [
        {
          "name": "stdout",
          "output_type": "stream",
          "text": [
            "10000\n",
            "Test Prediction Accuracy:  100.0 %\n"
          ]
        }
      ],
      "source": [
        "prediction_hot = model.predict(x_test)\n",
        "prediction = []\n",
        "\n",
        "#convert from one-hot to regular\n",
        "for line in prediction_hot:\n",
        "    prediction.append(np.argmax(line))\n",
        "correct = 0\n",
        "incorrect = 0\n",
        "\n",
        "for i in prediction:\n",
        "    if prediction[i] == y_test[i]:\n",
        "        correct += 1\n",
        "    else:\n",
        "        incorrect += 1\n",
        "        #print(prediction[i], '!=', y_test[i])\n",
        "\n",
        "accuracy = correct / y_test.shape[0]\n",
        "\n",
        "print(correct)\n",
        "print('Test Prediction Accuracy: ', accuracy * 100, '%')"
      ]
    },
    {
      "cell_type": "markdown",
      "metadata": {
        "id": "mdQk5CPnlBAl"
      },
      "source": [
        "### **Demo kết quả**"
      ]
    },
    {
      "cell_type": "code",
      "execution_count": null,
      "metadata": {
        "colab": {
          "base_uri": "https://localhost:8080/",
          "height": 1000
        },
        "id": "CLNrFOz6k-DJ",
        "outputId": "18175d5c-4b44-4952-b4e9-ce0d6b5de896"
      },
      "outputs": [
        {
          "name": "stdout",
          "output_type": "stream",
          "text": [
            "PREDICTION:  1\n"
          ]
        },
        {
          "data": {
            "image/png": "[encoded data removed]",
            "text/plain": [
              "<Figure size 432x288 with 1 Axes>"
            ]
          },
          "metadata": {},
          "output_type": "display_data"
        },
        {
          "name": "stdout",
          "output_type": "stream",
          "text": [
            "PREDICTION:  6\n"
          ]
        },
        {
          "data": {
            "image/png": "[encoded data removed]",
            "text/plain": [
              "<Figure size 432x288 with 1 Axes>"
            ]
          },
          "metadata": {},
          "output_type": "display_data"
        },
        {
          "name": "stdout",
          "output_type": "stream",
          "text": [
            "PREDICTION:  4\n"
          ]
        },
        {
          "data": {
            "image/png": "[encoded data removed]",
            "text/plain": [
              "<Figure size 432x288 with 1 Axes>"
            ]
          },
          "metadata": {},
          "output_type": "display_data"
        },
        {
          "name": "stdout",
          "output_type": "stream",
          "text": [
            "PREDICTION:  7\n"
          ]
        },
        {
          "data": {
            "image/png": "[encoded data removed]",
            "text/plain": [
              "<Figure size 432x288 with 1 Axes>"
            ]
          },
          "metadata": {},
          "output_type": "display_data"
        },
        {
          "name": "stdout",
          "output_type": "stream",
          "text": [
            "PREDICTION:  1\n"
          ]
        },
        {
          "data": {
            "image/png": "[encoded data removed]",
            "text/plain": [
              "<Figure size 432x288 with 1 Axes>"
            ]
          },
          "metadata": {},
          "output_type": "display_data"
        }
      ],
      "source": [
        "import matplotlib.pyplot as plt\n",
        "import keras, random, math\n",
        "#pick random pictures\n",
        "num = math.ceil(random.uniform(1,9995))\n",
        "label = data1[2][1]\n",
        "for i in range(num, num+5):\n",
        "    print('PREDICTION: ', label[i])\n",
        "    plt.title('LABEL: {label}'.format(label=label[i]))\n",
        "    temp = x_test[i].numpy() \n",
        "    temp = np.reshape(temp, (28,28), order='F')\n",
        "    plt.imshow(temp, cmap='gray')\n",
        "    plt.show()"
      ]
    }
  ],
  "metadata": {
    "accelerator": "GPU",
    "colab": {
      "collapsed_sections": [],
      "name": "MultiPerceptronLayer.ipynb",
      "provenance": []
    },
    "gpuClass": "standard",
    "kernelspec": {
      "display_name": "Python 3",
      "name": "python3"
    },
    "language_info": {
      "name": "python"
    }
  },
  "nbformat": 4,
  "nbformat_minor": 0
}